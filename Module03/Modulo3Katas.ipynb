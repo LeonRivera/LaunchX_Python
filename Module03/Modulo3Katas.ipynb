{
 "cells": [
  {
   "cell_type": "markdown",
   "metadata": {},
   "source": [
    "Exercise 1: Escribir declaraciones if, else, y elif"
   ]
  },
  {
   "cell_type": "code",
   "execution_count": 9,
   "metadata": {},
   "outputs": [
    {
     "name": "stdout",
     "output_type": "stream",
     "text": [
      "Sir we have a problem\n"
     ]
    }
   ],
   "source": [
    "asteroidVelocity = 49\n",
    "\n",
    "if(asteroidVelocity > 25):\n",
    "    print(\"Sir we have a problem\")\n",
    "elif(asteroidVelocity >= 20):\n",
    "    print(\"We need that the people would see the sky\")\n",
    "else:\n",
    "    print(\"All in order captain\")\n",
    "\n",
    "\n",
    "\n"
   ]
  },
  {
   "cell_type": "markdown",
   "metadata": {},
   "source": [
    "Exercise 2: Uso de operadores and y or"
   ]
  },
  {
   "cell_type": "code",
   "execution_count": 13,
   "metadata": {},
   "outputs": [
    {
     "name": "stdout",
     "output_type": "stream",
     "text": [
      "all normal with the size of the asteroid\n"
     ]
    }
   ],
   "source": [
    "asteroidVelocity = 19\n",
    "\n",
    "if(asteroidVelocity >= 20):\n",
    "    print(\"We need that the people would see the sky\")\n",
    "else:\n",
    "    print(\"all normal with the size of the asteroid\")\n",
    "\n"
   ]
  },
  {
   "cell_type": "markdown",
   "metadata": {},
   "source": [
    "Exercise 3:"
   ]
  },
  {
   "cell_type": "code",
   "execution_count": 11,
   "metadata": {},
   "outputs": [
    {
     "name": "stdout",
     "output_type": "stream",
     "text": [
      "We need that the people would see the sky\n"
     ]
    }
   ],
   "source": [
    "\n",
    "\n",
    "sizeOfAsteroid = 25\n",
    "asteroidVelocity = 40\n",
    "\n",
    "if(sizeOfAsteroid > 25 and asteroidVelocity > 25):\n",
    "    print(\" Alert ouch! it will hurts\")\n",
    "elif(asteroidVelocity >= 20):\n",
    "    print(\"We need that the people would see the sky\")\n",
    "else:\n",
    "    print(\"All in order captain\")\n"
   ]
  }
 ],
 "metadata": {
  "interpreter": {
   "hash": "f7291e4b392a32fbfa525b87d1bbd0a3d888adf3d0deca0c205c61b9e7284b82"
  },
  "kernelspec": {
   "display_name": "Python 3.6.8 64-bit",
   "language": "python",
   "name": "python3"
  },
  "language_info": {
   "codemirror_mode": {
    "name": "ipython",
    "version": 3
   },
   "file_extension": ".py",
   "mimetype": "text/x-python",
   "name": "python",
   "nbconvert_exporter": "python",
   "pygments_lexer": "ipython3",
   "version": "3.6.8"
  },
  "orig_nbformat": 4
 },
 "nbformat": 4,
 "nbformat_minor": 2
}
