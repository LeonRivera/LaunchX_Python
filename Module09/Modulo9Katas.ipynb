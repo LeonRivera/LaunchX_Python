{
 "cells": [
  {
   "cell_type": "markdown",
   "metadata": {},
   "source": [
    "Ejercicio 1 Uso de funciones en python"
   ]
  },
  {
   "cell_type": "code",
   "execution_count": 5,
   "metadata": {},
   "outputs": [
    {
     "name": "stdout",
     "output_type": "stream",
     "text": [
      "('Fuel report promedioTanques [tanque1, tanque2 tanque3]', 33.333333333333336)\n"
     ]
    }
   ],
   "source": [
    "tanque1 = 25\n",
    "tanque2 = 31\n",
    "tanque3 = 44\n",
    "\n",
    "def promedioTanques(tanque1, tanque2, tanque3):\n",
    "    return \"Fuel report promedioTanques [tanque1, tanque2 tanque3]\", (tanque1 + tanque2 + tanque3) / 3\n",
    "\n",
    "print(promedioTanques(tanque1, tanque2, tanque3))"
   ]
  },
  {
   "cell_type": "markdown",
   "metadata": {},
   "source": [
    "Ejercicio 2 Trabajo con argumentos de palabra clave"
   ]
  },
  {
   "cell_type": "code",
   "execution_count": 17,
   "metadata": {},
   "outputs": [
    {
     "name": "stdout",
     "output_type": "stream",
     "text": [
      "\n",
      "    Destino : Moon\n",
      "    Tiempo: 74 minutes\n",
      "    combustible: 500000\n",
      "    \n"
     ]
    }
   ],
   "source": [
    "def reporteMision(destino, *minutos, **combustible):\n",
    "    valoresReporte = f\"\"\"\n",
    "    Destino : {destino}\n",
    "    Tiempo: {sum(minutos)} minutes\n",
    "    combustible: {sum(combustible.values())}\n",
    "    \"\"\"\n",
    "    return valoresReporte \n",
    "\n",
    "print(reporteMision(\"Moon\", 8, 11, 55, main=300000, external=200000))"
   ]
  },
  {
   "cell_type": "code",
   "execution_count": null,
   "metadata": {},
   "outputs": [],
   "source": []
  }
 ],
 "metadata": {
  "interpreter": {
   "hash": "f7291e4b392a32fbfa525b87d1bbd0a3d888adf3d0deca0c205c61b9e7284b82"
  },
  "kernelspec": {
   "display_name": "Python 3.6.8 64-bit",
   "language": "python",
   "name": "python3"
  },
  "language_info": {
   "codemirror_mode": {
    "name": "ipython",
    "version": 3
   },
   "file_extension": ".py",
   "mimetype": "text/x-python",
   "name": "python",
   "nbconvert_exporter": "python",
   "pygments_lexer": "ipython3",
   "version": "3.6.8"
  },
  "orig_nbformat": 4
 },
 "nbformat": 4,
 "nbformat_minor": 2
}
