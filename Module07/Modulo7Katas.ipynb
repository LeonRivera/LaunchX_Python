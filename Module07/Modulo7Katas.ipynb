{
 "cells": [
  {
   "cell_type": "markdown",
   "metadata": {},
   "source": [
    "Exercise 1: Creacion de un bucle while"
   ]
  },
  {
   "cell_type": "code",
   "execution_count": 1,
   "metadata": {},
   "outputs": [
    {
     "name": "stdout",
     "output_type": "stream",
     "text": [
      "['leon', 'felipe', 'rivera']\n"
     ]
    }
   ],
   "source": [
    "planets = []\n",
    "newPlanet = \"\"\n",
    "\n",
    "while(newPlanet != \"done\"):\n",
    "    newPlanet = input(\"Ingresa tu planeta\")\n",
    "    if(newPlanet != \"done\"):\n",
    "        planets.append(newPlanet)\n",
    "\n",
    "print(planets)\n"
   ]
  },
  {
   "cell_type": "markdown",
   "metadata": {},
   "source": [
    "Exercise 2: Creacion de un ciclo for"
   ]
  },
  {
   "cell_type": "code",
   "execution_count": 2,
   "metadata": {},
   "outputs": [
    {
     "name": "stdout",
     "output_type": "stream",
     "text": [
      "leon\n",
      "felipe\n",
      "rivera\n"
     ]
    }
   ],
   "source": [
    "planets = []\n",
    "newPlanet = \"\"\n",
    "\n",
    "while(newPlanet != \"done\"):\n",
    "    newPlanet = input(\"Ingresa tu planeta\")\n",
    "    if(newPlanet != \"done\"):\n",
    "        planets.append(newPlanet)\n",
    "\n",
    "for index, item in enumerate(planets):\n",
    "    planet = planets[index]\n",
    "    print(planet)\n"
   ]
  }
 ],
 "metadata": {
  "interpreter": {
   "hash": "f7291e4b392a32fbfa525b87d1bbd0a3d888adf3d0deca0c205c61b9e7284b82"
  },
  "kernelspec": {
   "display_name": "Python 3.6.8 64-bit",
   "language": "python",
   "name": "python3"
  },
  "language_info": {
   "codemirror_mode": {
    "name": "ipython",
    "version": 3
   },
   "file_extension": ".py",
   "mimetype": "text/x-python",
   "name": "python",
   "nbconvert_exporter": "python",
   "pygments_lexer": "ipython3",
   "version": "3.6.8"
  },
  "orig_nbformat": 4
 },
 "nbformat": 4,
 "nbformat_minor": 2
}
